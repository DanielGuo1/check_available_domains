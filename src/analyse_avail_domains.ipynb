{
 "cells": [
  {
   "cell_type": "code",
   "execution_count": 1,
   "metadata": {
    "collapsed": true
   },
   "outputs": [],
   "source": [
    "import pandas as pd"
   ]
  },
  {
   "cell_type": "code",
   "execution_count": 4,
   "outputs": [
    {
     "data": {
      "text/plain": "         Domain              Status\n0      USDT.com              active\n1   Bitcoin.com              active\n2       BTC.com              active\n3  Ethereum.com              active\n4       ETH.com  undelegated active",
      "text/html": "<div>\n<style scoped>\n    .dataframe tbody tr th:only-of-type {\n        vertical-align: middle;\n    }\n\n    .dataframe tbody tr th {\n        vertical-align: top;\n    }\n\n    .dataframe thead th {\n        text-align: right;\n    }\n</style>\n<table border=\"1\" class=\"dataframe\">\n  <thead>\n    <tr style=\"text-align: right;\">\n      <th></th>\n      <th>Domain</th>\n      <th>Status</th>\n    </tr>\n  </thead>\n  <tbody>\n    <tr>\n      <th>0</th>\n      <td>USDT.com</td>\n      <td>active</td>\n    </tr>\n    <tr>\n      <th>1</th>\n      <td>Bitcoin.com</td>\n      <td>active</td>\n    </tr>\n    <tr>\n      <th>2</th>\n      <td>BTC.com</td>\n      <td>active</td>\n    </tr>\n    <tr>\n      <th>3</th>\n      <td>Ethereum.com</td>\n      <td>active</td>\n    </tr>\n    <tr>\n      <th>4</th>\n      <td>ETH.com</td>\n      <td>undelegated active</td>\n    </tr>\n  </tbody>\n</table>\n</div>"
     },
     "execution_count": 4,
     "metadata": {},
     "output_type": "execute_result"
    }
   ],
   "source": [
    "domains = pd.read_csv('./data/available_coin_domains.csv' ,names=[\"Domain\", \"Status\"])\n",
    "domains.head()"
   ],
   "metadata": {
    "collapsed": false,
    "pycharm": {
     "name": "#%%\n"
    }
   }
  },
  {
   "cell_type": "code",
   "execution_count": 5,
   "outputs": [
    {
     "data": {
      "text/plain": "active                                        698\ninvalid                                       175\nmarketed active                                51\nmarketed active parked                         42\nmarketed priced active                         19\nmarketed priced active parked                  15\nmarketed priced transferable active            10\nmarketed priced transferable active parked      6\nundelegated active                              5\nactive parked                                   3\nactive zone                                     2\nName: Status, dtype: int64"
     },
     "execution_count": 5,
     "metadata": {},
     "output_type": "execute_result"
    }
   ],
   "source": [
    "domains.Status.value_counts()\n"
   ],
   "metadata": {
    "collapsed": false,
    "pycharm": {
     "name": "#%%\n"
    }
   }
  },
  {
   "cell_type": "code",
   "execution_count": 7,
   "outputs": [
    {
     "data": {
      "text/plain": "            Domain              Status\n4          ETH.com  undelegated active\n10         ETH.com  undelegated active\n667            NaN  undelegated active\n935   TerraKRW.com  undelegated active\n1011       ETH.com  undelegated active",
      "text/html": "<div>\n<style scoped>\n    .dataframe tbody tr th:only-of-type {\n        vertical-align: middle;\n    }\n\n    .dataframe tbody tr th {\n        vertical-align: top;\n    }\n\n    .dataframe thead th {\n        text-align: right;\n    }\n</style>\n<table border=\"1\" class=\"dataframe\">\n  <thead>\n    <tr style=\"text-align: right;\">\n      <th></th>\n      <th>Domain</th>\n      <th>Status</th>\n    </tr>\n  </thead>\n  <tbody>\n    <tr>\n      <th>4</th>\n      <td>ETH.com</td>\n      <td>undelegated active</td>\n    </tr>\n    <tr>\n      <th>10</th>\n      <td>ETH.com</td>\n      <td>undelegated active</td>\n    </tr>\n    <tr>\n      <th>667</th>\n      <td>NaN</td>\n      <td>undelegated active</td>\n    </tr>\n    <tr>\n      <th>935</th>\n      <td>TerraKRW.com</td>\n      <td>undelegated active</td>\n    </tr>\n    <tr>\n      <th>1011</th>\n      <td>ETH.com</td>\n      <td>undelegated active</td>\n    </tr>\n  </tbody>\n</table>\n</div>"
     },
     "execution_count": 7,
     "metadata": {},
     "output_type": "execute_result"
    }
   ],
   "source": [
    "domains[domains.Status == \"undelegated active\"]\n"
   ],
   "metadata": {
    "collapsed": false,
    "pycharm": {
     "name": "#%%\n"
    }
   }
  }
 ],
 "metadata": {
  "kernelspec": {
   "display_name": "Python 3",
   "language": "python",
   "name": "python3"
  },
  "language_info": {
   "codemirror_mode": {
    "name": "ipython",
    "version": 2
   },
   "file_extension": ".py",
   "mimetype": "text/x-python",
   "name": "python",
   "nbconvert_exporter": "python",
   "pygments_lexer": "ipython2",
   "version": "2.7.6"
  }
 },
 "nbformat": 4,
 "nbformat_minor": 0
}